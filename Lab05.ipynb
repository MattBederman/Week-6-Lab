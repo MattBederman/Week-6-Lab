{
 "cells": [
  {
   "cell_type": "code",
   "execution_count": 1,
   "id": "progressive-motion",
   "metadata": {},
   "outputs": [
    {
     "name": "stdin",
     "output_type": "stream",
     "text": [
      "What is your full name? Hannah Harhai\n"
     ]
    },
    {
     "name": "stdout",
     "output_type": "stream",
     "text": [
      "Hello Hannah Harhai !\n"
     ]
    },
    {
     "name": "stdin",
     "output_type": "stream",
     "text": [
      "Enter your age please:  18\n"
     ]
    },
    {
     "name": "stdout",
     "output_type": "stream",
     "text": [
      "Thank you!\n",
      "You're either working or in college, so goodluck!\n"
     ]
    }
   ],
   "source": [
    "name = input(\"What is your full name?\")\n",
    "print(\"Hello\", name, \"!\")\n",
    "\n",
    "age = input(\"Enter your age please: \")\n",
    "try:\n",
    "    age = int(age)\n",
    "    print(\"Thank you!\")\n",
    "except:\n",
    "    age = str(age)\n",
    "    age = input(\"Please enter your AGE: \") \n",
    "\n",
    "try:\n",
    "    age = int(age)\n",
    "\n",
    "    if age <= 12:\n",
    "        print(\"You're not a teenager yet\")\n",
    "    elif 13 <= age < 18:\n",
    "        print(\"You're a teen with minimal responibilites\")\n",
    "    elif 18 <= age <= 22:\n",
    "        print(\"You're either working or in college, so goodluck!\")\n",
    "    elif age >= 23:\n",
    "        print(\"You're just actually an adult now, go responsibilites!\")\n",
    "\n",
    "except:\n",
    "    age = str(age)\n",
    "    print(\"That's not even an age :/ \")"
   ]
  },
  {
   "cell_type": "code",
   "execution_count": null,
   "id": "charitable-basics",
   "metadata": {},
   "outputs": [],
   "source": []
  }
 ],
 "metadata": {
  "kernelspec": {
   "display_name": "Python 3",
   "language": "python",
   "name": "python3"
  },
  "language_info": {
   "codemirror_mode": {
    "name": "ipython",
    "version": 3
   },
   "file_extension": ".py",
   "mimetype": "text/x-python",
   "name": "python",
   "nbconvert_exporter": "python",
   "pygments_lexer": "ipython3",
   "version": "3.7.7"
  }
 },
 "nbformat": 4,
 "nbformat_minor": 5
}
